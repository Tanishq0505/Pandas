{
  "cells": [
    {
      "cell_type": "markdown",
      "metadata": {},
      "source": [
        "<center>\n",
        "    <img src=\"https://cf-courses-data.s3.us.cloud-object-storage.appdomain.cloud/IBMDeveloperSkillsNetwork-PY0101EN-SkillsNetwork/IDSNlogo.png\" width=\"300\" alt=\"cognitiveclass.ai logo\">\n",
        "</center>\n",
        "\n",
        "# Hands-on Lab: Loading data with Pandas\n",
        "\n",
        "## Objectives\n",
        "After completing this lab you will be able to:\n",
        "*   Use Pandas to access and view data\n"
      ]
    },
    {
      "cell_type": "markdown",
      "metadata": {},
      "source": [
        "## About the Dataset\n"
      ]
    },
    {
      "cell_type": "markdown",
      "metadata": {},
      "source": [
        "The table has one row for each album and several columns.\n",
        "\n",
        "<ul>\n",
        "    <li><b>artist</b>: Name of the artist</li>\n",
        "    <li><b>album</b>: Name of the album</li>\n",
        "    <li><b>released_year</b>: Year the album was released</li>\n",
        "    <li><b>length_min_sec</b>: Length of the album (hours,minutes,seconds)</li>\n",
        "    <li><b>genre</b>: Genre of the album</li>\n",
        "    <li><b>music_recording_sales_millions</b>: Music recording sales (millions in USD) on <a href=\"http://www.song-database.com/?utm_medium=Exinfluencer&utm_source=Exinfluencer&utm_content=000026UJ&utm_term=10006555&utm_id=NA-SkillsNetwork-Channel-SkillsNetworkCoursesIBMDeveloperSkillsNetworkPY0101ENSkillsNetwork19487395-2021-01-01?utm_medium=Exinfluencer&utm_source=Exinfluencer&utm_content=000026UJ&utm_term=10006555&utm_id=NA-SkillsNetwork-Channel-SkillsNetworkCoursesIBMDeveloperSkillsNetworkPY0101ENSkillsNetwork19487395-2021-01-01\">[SONG://DATABASE]</a></li>\n",
        "    <li><b>claimed_sales_millions</b>: Album's claimed sales (millions in USD) on <a href=\"http://www.song-database.com/\">[SONG://DATABASE]</a></li>\n",
        "    <li><b>date_released</b>: Date on which the album was released</li>\n",
        "    <li><b>soundtrack</b>: Indicates if the album is the movie soundtrack (Y) or (N)</li>\n",
        "    <li><b>rating_of_friends</b>: Indicates the rating from your friends from 1 to 10</li>\n",
        "</ul>\n",
        "\n",
        "You can see the dataset here:\n",
        "\n",
        "<font size=\"1\">\n",
        "<table font-size:xx-small>\n",
        "  <tr>\n",
        "    <th>Artist</th>\n",
        "    <th>Album</th> \n",
        "    <th>Released</th>\n",
        "    <th>Length</th>\n",
        "    <th>Genre</th> \n",
        "    <th>Music recording sales (millions)</th>\n",
        "    <th>Claimed sales (millions)</th>\n",
        "    <th>Released</th>\n",
        "    <th>Soundtrack</th>\n",
        "    <th>Rating (friends)</th>\n",
        "  </tr>\n",
        "  <tr>\n",
        "    <td>Michael Jackson</td>\n",
        "    <td>Thriller</td> \n",
        "    <td>1982</td>\n",
        "    <td>00:42:19</td>\n",
        "    <td>Pop, rock, R&B</td>\n",
        "    <td>46</td>\n",
        "    <td>65</td>\n",
        "    <td>30-Nov-82</td>\n",
        "    <td></td>\n",
        "    <td>10.0</td>\n",
        "  </tr>\n",
        "  <tr>\n",
        "    <td>AC/DC</td>\n",
        "    <td>Back in Black</td> \n",
        "    <td>1980</td>\n",
        "    <td>00:42:11</td>\n",
        "    <td>Hard rock</td>\n",
        "    <td>26.1</td>\n",
        "    <td>50</td>\n",
        "    <td>25-Jul-80</td>\n",
        "    <td></td>\n",
        "    <td>8.5</td>\n",
        "  </tr>\n",
        "    <tr>\n",
        "    <td>Pink Floyd</td>\n",
        "    <td>The Dark Side of the Moon</td> \n",
        "    <td>1973</td>\n",
        "    <td>00:42:49</td>\n",
        "    <td>Progressive rock</td>\n",
        "    <td>24.2</td>\n",
        "    <td>45</td>\n",
        "    <td>01-Mar-73</td>\n",
        "    <td></td>\n",
        "    <td>9.5</td>\n",
        "  </tr>\n",
        "    <tr>\n",
        "    <td>Whitney Houston</td>\n",
        "    <td>The Bodyguard</td> \n",
        "    <td>1992</td>\n",
        "    <td>00:57:44</td>\n",
        "    <td>Soundtrack/R&B, soul, pop</td>\n",
        "    <td>26.1</td>\n",
        "    <td>50</td>\n",
        "    <td>25-Jul-80</td>\n",
        "    <td>Y</td>\n",
        "    <td>7.0</td>\n",
        "  </tr>\n",
        "    <tr>\n",
        "    <td>Meat Loaf</td>\n",
        "    <td>Bat Out of Hell</td> \n",
        "    <td>1977</td>\n",
        "    <td>00:46:33</td>\n",
        "    <td>Hard rock, progressive rock</td>\n",
        "    <td>20.6</td>\n",
        "    <td>43</td>\n",
        "    <td>21-Oct-77</td>\n",
        "    <td></td>\n",
        "    <td>7.0</td>\n",
        "  </tr>\n",
        "    <tr>\n",
        "    <td>Eagles</td>\n",
        "    <td>Their Greatest Hits (1971-1975)</td> \n",
        "    <td>1976</td>\n",
        "    <td>00:43:08</td>\n",
        "    <td>Rock, soft rock, folk rock</td>\n",
        "    <td>32.2</td>\n",
        "    <td>42</td>\n",
        "    <td>17-Feb-76</td>\n",
        "    <td></td>\n",
        "    <td>9.5</td>\n",
        "  </tr>\n",
        "    <tr>\n",
        "    <td>Bee Gees</td>\n",
        "    <td>Saturday Night Fever</td> \n",
        "    <td>1977</td>\n",
        "    <td>1:15:54</td>\n",
        "    <td>Disco</td>\n",
        "    <td>20.6</td>\n",
        "    <td>40</td>\n",
        "    <td>15-Nov-77</td>\n",
        "    <td>Y</td>\n",
        "    <td>9.0</td>\n",
        "  </tr>\n",
        "    <tr>\n",
        "    <td>Fleetwood Mac</td>\n",
        "    <td>Rumours</td> \n",
        "    <td>1977</td>\n",
        "    <td>00:40:01</td>\n",
        "    <td>Soft rock</td>\n",
        "    <td>27.9</td>\n",
        "    <td>40</td>\n",
        "    <td>04-Feb-77</td>\n",
        "    <td></td>\n",
        "    <td>9.5</td>\n",
        "  </tr>\n",
        "</table></font>\n"
      ]
    },
    {
      "cell_type": "markdown",
      "metadata": {},
      "source": [
        "<hr>\n"
      ]
    },
    {
      "cell_type": "markdown",
      "metadata": {},
      "source": [
        "## Introduction of <code>Pandas</code>\n"
      ]
    },
    {
      "cell_type": "markdown",
      "metadata": {},
      "source": [
        "Pandas is a popular library for data analysis built on top of the Python programming language. Pandas generally provide two data structures for manipulating data, They are:\n",
        "\n",
        "DataFrame\n",
        "Series\n",
        "A DataFrame is a two-dimensional data structure, i.e., data is aligned in a tabular fashion in rows and columns.\n",
        "\n",
        "A Pandas DataFrame will be created by loading the datasets from existing storage.\n",
        "Storage can be SQL Database, CSV file, Excel file, etc.\n",
        "It can also be created from the lists, dictionaries, and from a list of dictionaries.\n",
        "Series represents a one-dimensional array of indexed data. It has two main components :\n",
        "\n",
        "An array of actual data.\n",
        "An associated array of indexes or data labels.\n",
        "The index is used to access individual data values. You can also get a column of a dataframe as a Series. You can think of a Pandas series as a 1-D dataframe."
      ]
    },
    {
      "cell_type": "code",
      "execution_count": 1,
      "metadata": {},
      "outputs": [],
      "source": [
        "# Import required library\n",
        "\n",
        "import pandas as pd"
      ]
    },
    {
      "cell_type": "code",
      "execution_count": 2,
      "metadata": {},
      "outputs": [
        {
          "name": "stdout",
          "output_type": "stream",
          "text": [
            "            Artist                            Album  Released   Length  \\\n",
            "0  Michael Jackson                         Thriller      1982  0:42:19   \n",
            "1            AC/DC                    Back in Black      1980  0:42:11   \n",
            "2       Pink Floyd        The Dark Side of the Moon      1973  0:42:49   \n",
            "3  Whitney Houston                    The Bodyguard      1992  0:57:44   \n",
            "4        Meat Loaf                  Bat Out of Hell      1977  0:46:33   \n",
            "5           Eagles  Their Greatest Hits (1971-1975)      1976  0:43:08   \n",
            "6         Bee Gees             Saturday Night Fever      1977  1:15:54   \n",
            "7    Fleetwood Mac                          Rumours      1977  0:40:01   \n",
            "\n",
            "                         Genre  Music Recording Sales (millions)  \\\n",
            "0               pop, rock, R&B                              46.0   \n",
            "1                    hard rock                              26.1   \n",
            "2             progressive rock                              24.2   \n",
            "3               R&B, soul, pop                              27.4   \n",
            "4  hard rock, progressive rock                              20.6   \n",
            "5   rock, soft rock, folk rock                              32.2   \n",
            "6                        disco                              20.6   \n",
            "7                    soft rock                              27.9   \n",
            "\n",
            "   Claimed Sales (millions) Released.1 Soundtrack  Rating  \n",
            "0                        65  30-Nov-82        NaN    10.0  \n",
            "1                        50  25-Jul-80        NaN     9.5  \n",
            "2                        45  01-Mar-73        NaN     9.0  \n",
            "3                        44  17-Nov-92          Y     8.5  \n",
            "4                        43  21-Oct-77        NaN     8.0  \n",
            "5                        42  17-Feb-76        NaN     7.5  \n",
            "6                        40  15-Nov-77          Y     7.0  \n",
            "7                        40  04-Feb-77        NaN     6.5  \n"
          ]
        }
      ],
      "source": [
        "filename = r\"F:\\Imp courses\\Python for Data Sciene AI Development\\Module 4\\Part 2 Pandas\\labs\\TopSellingAlbums.csv\"\n",
        "df = pd.read_csv(filename)\n",
        "print(df)"
      ]
    },
    {
      "cell_type": "markdown",
      "metadata": {},
      "source": [
        "We can use the method <code>head()</code> to examine the first five rows of a dataframe:\n"
      ]
    },
    {
      "cell_type": "code",
      "execution_count": null,
      "metadata": {},
      "outputs": [],
      "source": [
        "# Print first five rows of the dataframe\n",
        "\n",
        "df.head()"
      ]
    },
    {
      "cell_type": "markdown",
      "metadata": {},
      "source": [
        "We can access the column <b>Length</b> and assign it a new dataframe <b>x</b>:\n"
      ]
    },
    {
      "cell_type": "code",
      "execution_count": null,
      "metadata": {},
      "outputs": [],
      "source": [
        "# Access to the column Length\n",
        "\n",
        "x = df[['Length']]\n",
        "x"
      ]
    },
    {
      "cell_type": "markdown",
      "metadata": {},
      "source": [
        "The process is shown in the figure:\n"
      ]
    },
    {
      "cell_type": "markdown",
      "metadata": {},
      "source": [
        "<img src=\"https://cf-courses-data.s3.us.cloud-object-storage.appdomain.cloud/IBMDeveloperSkillsNetwork-PY0101EN-SkillsNetwork/labs/Module%204/images/DataEgOne.png\" width=\"750\">\n"
      ]
    },
    {
      "cell_type": "markdown",
      "metadata": {},
      "source": [
        "<hr>\n"
      ]
    },
    {
      "cell_type": "markdown",
      "metadata": {},
      "source": [
        "## Viewing Data and Accessing Data\n"
      ]
    },
    {
      "cell_type": "markdown",
      "metadata": {},
      "source": [
        "You can also get a column as a series. You can think of a Pandas series as a 1-D dataframe. Just use one bracket:\n"
      ]
    },
    {
      "cell_type": "code",
      "execution_count": null,
      "metadata": {},
      "outputs": [],
      "source": [
        "# Get the column as a series\n",
        "\n",
        "x = df['Length']\n",
        "x"
      ]
    },
    {
      "cell_type": "markdown",
      "metadata": {},
      "source": [
        "You can also get a column as a dataframe. For example, we can assign the column <b>Artist</b>:\n"
      ]
    },
    {
      "cell_type": "code",
      "execution_count": null,
      "metadata": {},
      "outputs": [],
      "source": [
        "# Get the column as a dataframe\n",
        "\n",
        "x = df[['Artist']]\n",
        "type(x)"
      ]
    },
    {
      "cell_type": "markdown",
      "metadata": {},
      "source": [
        "You can do the same thing for multiple columns; we just put the dataframe name, in this case, <code>df</code>, and the name of the multiple column headers enclosed in double brackets. The result is a new dataframe comprised of the specified columns:\n"
      ]
    },
    {
      "cell_type": "code",
      "execution_count": null,
      "metadata": {},
      "outputs": [],
      "source": [
        "# Access to multiple columns\n",
        "\n",
        "y = df[['Artist','Length','Genre']]\n",
        "y"
      ]
    },
    {
      "cell_type": "markdown",
      "metadata": {},
      "source": [
        "The process is shown in the figure:\n"
      ]
    },
    {
      "cell_type": "markdown",
      "metadata": {},
      "source": [
        "<img src=\"https://cf-courses-data.s3.us.cloud-object-storage.appdomain.cloud/IBMDeveloperSkillsNetwork-PY0101EN-SkillsNetwork/labs/Module%204/images/DataEgTwo.png\" width=\"1100\">\n"
      ]
    },
    {
      "cell_type": "markdown",
      "metadata": {},
      "source": [
        "One way to access unique elements is the <code>iloc</code> method, where you can access the 1st row and the 1st column as follows:\n"
      ]
    },
    {
      "cell_type": "code",
      "execution_count": null,
      "metadata": {},
      "outputs": [],
      "source": [
        "# Access the value on the first row and the first column\n",
        "\n",
        "df.iloc[0, 0]"
      ]
    },
    {
      "cell_type": "markdown",
      "metadata": {},
      "source": [
        "You can access the 2nd row and the 1st column as follows:\n"
      ]
    },
    {
      "cell_type": "code",
      "execution_count": null,
      "metadata": {},
      "outputs": [],
      "source": [
        "# Access the value on the second row and the first column\n",
        "\n",
        "df.iloc[1,0]"
      ]
    },
    {
      "cell_type": "markdown",
      "metadata": {},
      "source": [
        "You can access the 1st row and the 3rd column as follows:\n"
      ]
    },
    {
      "cell_type": "code",
      "execution_count": null,
      "metadata": {},
      "outputs": [],
      "source": [
        "# Access the value on the first row and the third column\n",
        "\n",
        "df.iloc[0,2]"
      ]
    },
    {
      "cell_type": "code",
      "execution_count": null,
      "metadata": {},
      "outputs": [],
      "source": [
        "# Access the value on the second row and the third column\n",
        "df.iloc[1,2]"
      ]
    },
    {
      "cell_type": "code",
      "execution_count": null,
      "metadata": {},
      "outputs": [],
      "source": []
    },
    {
      "cell_type": "markdown",
      "metadata": {},
      "source": [
        "This is shown in the following image\n"
      ]
    },
    {
      "cell_type": "markdown",
      "metadata": {},
      "source": [
        "<img src=\"https://cf-courses-data.s3.us.cloud-object-storage.appdomain.cloud/IBMDeveloperSkillsNetwork-PY0101EN-SkillsNetwork/labs/Module%204/images/2_loc.PNG\" width=\"750\">\n"
      ]
    },
    {
      "cell_type": "markdown",
      "metadata": {},
      "source": [
        "You can access the column using the name as well, the following are the same as above:\n"
      ]
    },
    {
      "cell_type": "code",
      "execution_count": null,
      "metadata": {},
      "outputs": [],
      "source": [
        "# Access the column using the name\n",
        "\n",
        "df.loc[1, 'Artist']"
      ]
    },
    {
      "cell_type": "code",
      "execution_count": null,
      "metadata": {},
      "outputs": [],
      "source": [
        "# Access the column using the name\n",
        "\n",
        "df.loc[1, 'Artist']"
      ]
    },
    {
      "cell_type": "code",
      "execution_count": null,
      "metadata": {},
      "outputs": [],
      "source": [
        "# Access the column using the name\n",
        "\n",
        "df.loc[0, 'Released']"
      ]
    },
    {
      "cell_type": "code",
      "execution_count": null,
      "metadata": {},
      "outputs": [],
      "source": [
        "# Access the column using the name\n",
        "\n",
        "df.loc[1, 'Released']"
      ]
    },
    {
      "cell_type": "markdown",
      "metadata": {},
      "source": [
        "<img src=\"https://cf-courses-data.s3.us.cloud-object-storage.appdomain.cloud/IBMDeveloperSkillsNetwork-PY0101EN-SkillsNetwork/labs/Module%204/images/1_loc.png\" width=\"750\">\n"
      ]
    },
    {
      "cell_type": "markdown",
      "metadata": {},
      "source": [
        "You can perform slicing using both the index and the name of the column:\n"
      ]
    },
    {
      "cell_type": "code",
      "execution_count": null,
      "metadata": {},
      "outputs": [],
      "source": [
        "# Slicing the dataframe\n",
        "\n",
        "df.iloc[0:2, 0:3]"
      ]
    },
    {
      "cell_type": "markdown",
      "metadata": {},
      "source": [
        "<img src=\"https://cf-courses-data.s3.us.cloud-object-storage.appdomain.cloud/IBMDeveloperSkillsNetwork-PY0101EN-SkillsNetwork/labs/Module%204/images/4_loc.png\" width=\"750\">\n"
      ]
    },
    {
      "cell_type": "code",
      "execution_count": null,
      "metadata": {},
      "outputs": [],
      "source": [
        "# Slicing the dataframe using name\n",
        "\n",
        "df.loc[0:2, 'Artist':'Released']"
      ]
    },
    {
      "cell_type": "markdown",
      "metadata": {},
      "source": [
        "<img src=\"https://cf-courses-data.s3.us.cloud-object-storage.appdomain.cloud/IBMDeveloperSkillsNetwork-PY0101EN-SkillsNetwork/labs/Module%204/images/3_loc.png\" width=\"750\">\n"
      ]
    },
    {
      "cell_type": "markdown",
      "metadata": {},
      "source": [
        " How to create a DataFrame using a dictionary."
      ]
    },
    {
      "cell_type": "markdown",
      "metadata": {},
      "source": [
        "Let us consider a dictionary 'x' with keys and values as shown below.\n",
        "\n",
        "We then create a dataframe from the dictionary using the function pd.DataFrame(dict)"
      ]
    },
    {
      "cell_type": "code",
      "execution_count": 3,
      "metadata": {},
      "outputs": [
        {
          "data": {
            "text/html": [
              "<div>\n",
              "<style scoped>\n",
              "    .dataframe tbody tr th:only-of-type {\n",
              "        vertical-align: middle;\n",
              "    }\n",
              "\n",
              "    .dataframe tbody tr th {\n",
              "        vertical-align: top;\n",
              "    }\n",
              "\n",
              "    .dataframe thead th {\n",
              "        text-align: right;\n",
              "    }\n",
              "</style>\n",
              "<table border=\"1\" class=\"dataframe\">\n",
              "  <thead>\n",
              "    <tr style=\"text-align: right;\">\n",
              "      <th></th>\n",
              "      <th>Name</th>\n",
              "      <th>ID</th>\n",
              "      <th>Department</th>\n",
              "      <th>Salary</th>\n",
              "    </tr>\n",
              "  </thead>\n",
              "  <tbody>\n",
              "    <tr>\n",
              "      <th>0</th>\n",
              "      <td>Rose</td>\n",
              "      <td>1</td>\n",
              "      <td>Architect Group</td>\n",
              "      <td>100000</td>\n",
              "    </tr>\n",
              "    <tr>\n",
              "      <th>1</th>\n",
              "      <td>John</td>\n",
              "      <td>2</td>\n",
              "      <td>Software Group</td>\n",
              "      <td>80000</td>\n",
              "    </tr>\n",
              "    <tr>\n",
              "      <th>2</th>\n",
              "      <td>Jane</td>\n",
              "      <td>3</td>\n",
              "      <td>Design Team</td>\n",
              "      <td>50000</td>\n",
              "    </tr>\n",
              "    <tr>\n",
              "      <th>3</th>\n",
              "      <td>Mary</td>\n",
              "      <td>4</td>\n",
              "      <td>Infrastructure</td>\n",
              "      <td>60000</td>\n",
              "    </tr>\n",
              "  </tbody>\n",
              "</table>\n",
              "</div>"
            ],
            "text/plain": [
              "   Name  ID       Department  Salary\n",
              "0  Rose   1  Architect Group  100000\n",
              "1  John   2   Software Group   80000\n",
              "2  Jane   3      Design Team   50000\n",
              "3  Mary   4   Infrastructure   60000"
            ]
          },
          "execution_count": 3,
          "metadata": {},
          "output_type": "execute_result"
        }
      ],
      "source": [
        "#Define a dictionary 'x'\n",
        "\n",
        "x = {'Name': ['Rose','John', 'Jane', 'Mary'], 'ID': [1, 2, 3, 4], 'Department': ['Architect Group', 'Software Group', 'Design Team', 'Infrastructure'], \n",
        "      'Salary':[100000, 80000, 50000, 60000]}\n",
        "\n",
        "#casting the dictionary to a DataFrame\n",
        "df = pd.DataFrame(x)\n",
        "\n",
        "#display the result df\n",
        "df"
      ]
    },
    {
      "cell_type": "markdown",
      "metadata": {},
      "source": [
        "We can see the direct correspondence between the table. The keys correspond to the column labels and the values or lists correspond to the rows."
      ]
    },
    {
      "cell_type": "markdown",
      "metadata": {},
      "source": [
        "Column Selection:\n",
        "To select a column in Pandas DataFrame, we can either access the columns by calling them by their columns name.\n",
        "\n",
        "Let's Retrieve the data present in the ID column."
      ]
    },
    {
      "cell_type": "code",
      "execution_count": 4,
      "metadata": {},
      "outputs": [
        {
          "data": {
            "text/html": [
              "<div>\n",
              "<style scoped>\n",
              "    .dataframe tbody tr th:only-of-type {\n",
              "        vertical-align: middle;\n",
              "    }\n",
              "\n",
              "    .dataframe tbody tr th {\n",
              "        vertical-align: top;\n",
              "    }\n",
              "\n",
              "    .dataframe thead th {\n",
              "        text-align: right;\n",
              "    }\n",
              "</style>\n",
              "<table border=\"1\" class=\"dataframe\">\n",
              "  <thead>\n",
              "    <tr style=\"text-align: right;\">\n",
              "      <th></th>\n",
              "      <th>ID</th>\n",
              "    </tr>\n",
              "  </thead>\n",
              "  <tbody>\n",
              "    <tr>\n",
              "      <th>0</th>\n",
              "      <td>1</td>\n",
              "    </tr>\n",
              "    <tr>\n",
              "      <th>1</th>\n",
              "      <td>2</td>\n",
              "    </tr>\n",
              "    <tr>\n",
              "      <th>2</th>\n",
              "      <td>3</td>\n",
              "    </tr>\n",
              "    <tr>\n",
              "      <th>3</th>\n",
              "      <td>4</td>\n",
              "    </tr>\n",
              "  </tbody>\n",
              "</table>\n",
              "</div>"
            ],
            "text/plain": [
              "   ID\n",
              "0   1\n",
              "1   2\n",
              "2   3\n",
              "3   4"
            ]
          },
          "execution_count": 4,
          "metadata": {},
          "output_type": "execute_result"
        }
      ],
      "source": [
        "#Retrieving the \"ID\" column and assigning it to a variable x\n",
        "x = df[['ID']]\n",
        "x"
      ]
    },
    {
      "cell_type": "markdown",
      "metadata": {},
      "source": [
        "Let's use the type() function and check the type of the variable."
      ]
    },
    {
      "cell_type": "code",
      "execution_count": 5,
      "metadata": {},
      "outputs": [
        {
          "data": {
            "text/plain": [
              "pandas.core.frame.DataFrame"
            ]
          },
          "execution_count": 5,
          "metadata": {},
          "output_type": "execute_result"
        }
      ],
      "source": [
        "#check the type of x\n",
        "type(x)"
      ]
    },
    {
      "cell_type": "markdown",
      "metadata": {},
      "source": [
        "Access to multiple columns\n",
        "Let us retrieve the data for Department, Salary and ID columns"
      ]
    },
    {
      "cell_type": "code",
      "execution_count": 6,
      "metadata": {},
      "outputs": [
        {
          "data": {
            "text/html": [
              "<div>\n",
              "<style scoped>\n",
              "    .dataframe tbody tr th:only-of-type {\n",
              "        vertical-align: middle;\n",
              "    }\n",
              "\n",
              "    .dataframe tbody tr th {\n",
              "        vertical-align: top;\n",
              "    }\n",
              "\n",
              "    .dataframe thead th {\n",
              "        text-align: right;\n",
              "    }\n",
              "</style>\n",
              "<table border=\"1\" class=\"dataframe\">\n",
              "  <thead>\n",
              "    <tr style=\"text-align: right;\">\n",
              "      <th></th>\n",
              "      <th>Department</th>\n",
              "      <th>Salary</th>\n",
              "      <th>ID</th>\n",
              "    </tr>\n",
              "  </thead>\n",
              "  <tbody>\n",
              "    <tr>\n",
              "      <th>0</th>\n",
              "      <td>Architect Group</td>\n",
              "      <td>100000</td>\n",
              "      <td>1</td>\n",
              "    </tr>\n",
              "    <tr>\n",
              "      <th>1</th>\n",
              "      <td>Software Group</td>\n",
              "      <td>80000</td>\n",
              "      <td>2</td>\n",
              "    </tr>\n",
              "    <tr>\n",
              "      <th>2</th>\n",
              "      <td>Design Team</td>\n",
              "      <td>50000</td>\n",
              "      <td>3</td>\n",
              "    </tr>\n",
              "    <tr>\n",
              "      <th>3</th>\n",
              "      <td>Infrastructure</td>\n",
              "      <td>60000</td>\n",
              "      <td>4</td>\n",
              "    </tr>\n",
              "  </tbody>\n",
              "</table>\n",
              "</div>"
            ],
            "text/plain": [
              "        Department  Salary  ID\n",
              "0  Architect Group  100000   1\n",
              "1   Software Group   80000   2\n",
              "2      Design Team   50000   3\n",
              "3   Infrastructure   60000   4"
            ]
          },
          "execution_count": 6,
          "metadata": {},
          "output_type": "execute_result"
        }
      ],
      "source": [
        "#Retrieving the Department, Salary and ID columns and assigning it to a variable z\n",
        "\n",
        "z = df[['Department','Salary','ID']]\n",
        "z"
      ]
    },
    {
      "cell_type": "markdown",
      "metadata": {},
      "source": [
        "<hr>\n"
      ]
    },
    {
      "cell_type": "markdown",
      "metadata": {},
      "source": [
        "## Quiz on DataFrame\n"
      ]
    },
    {
      "cell_type": "markdown",
      "metadata": {},
      "source": [
        "Use a variable <code>q</code> to store the column <b>Rating</b> as a dataframe\n"
      ]
    },
    {
      "cell_type": "code",
      "execution_count": null,
      "metadata": {},
      "outputs": [],
      "source": [
        "# Write your code below and press Shift+Enter to execute\n",
        "q = df[['Rating']]"
      ]
    },
    {
      "cell_type": "markdown",
      "metadata": {},
      "source": [
        "<details><summary>Click here for the solution</summary>\n",
        "\n",
        "```python\n",
        "q = df[['Rating']]\n",
        "q\n",
        "    \n",
        "```\n",
        "\n",
        "</details>\n"
      ]
    },
    {
      "cell_type": "markdown",
      "metadata": {},
      "source": [
        "Assign the variable <code>q</code> to the dataframe that is made up of the column <b>Released</b> and <b>Artist</b>:\n"
      ]
    },
    {
      "cell_type": "code",
      "execution_count": null,
      "metadata": {},
      "outputs": [],
      "source": [
        "# Write your code below and press Shift+Enter to execute\n",
        "q = df[['Released', 'Artist']]"
      ]
    },
    {
      "cell_type": "markdown",
      "metadata": {},
      "source": [
        "<details><summary>Click here for the solution</summary>\n",
        "\n",
        "```python\n",
        "q = df[['Released', 'Artist']]\n",
        "q\n",
        "    \n",
        "```\n",
        "\n",
        "</details>\n"
      ]
    },
    {
      "cell_type": "markdown",
      "metadata": {},
      "source": [
        "Access the 2nd row and the 3rd column of <code>df</code>:\n"
      ]
    },
    {
      "cell_type": "code",
      "execution_count": null,
      "metadata": {},
      "outputs": [],
      "source": [
        "# Write your code below and press Shift+Enter to execute\n",
        "df.iloc[1, 2]"
      ]
    },
    {
      "cell_type": "markdown",
      "metadata": {},
      "source": [
        "<details><summary>Click here for the solution</summary>\n",
        "\n",
        "```python\n",
        "df.iloc[1, 2]\n",
        "    \n",
        "```\n",
        "\n",
        "</details>\n"
      ]
    },
    {
      "cell_type": "markdown",
      "metadata": {},
      "source": [
        "Use the following list to convert the dataframe index <code>df</code> to characters and assign it to <code>df_new</code>; find the element corresponding to the row index <code>a</code> and column  <code>'Artist'</code>. Then select the rows <code>a</code> through <code>d</code> for the column  <code>'Artist'</code>\n"
      ]
    },
    {
      "cell_type": "code",
      "execution_count": null,
      "metadata": {},
      "outputs": [],
      "source": [
        "new_index=['a','b','c','d','e','f','g','h']\n",
        "df_new=df\n",
        "df_new.index=new_index\n",
        "df_new.loc['a', 'Artist']\n",
        "df_new.loc['a':'d', 'Artist']\n"
      ]
    },
    {
      "cell_type": "markdown",
      "metadata": {},
      "source": [
        "<details><summary>Click here for the solution</summary>\n",
        "\n",
        "```python\n",
        "df_new=df\n",
        "df_new.index=new_index\n",
        "df_new.loc['a', 'Artist']\n",
        "df_new.loc['a':'d', 'Artist']\n",
        "    \n",
        "```\n",
        "\n",
        "</details>\n"
      ]
    },
    {
      "cell_type": "markdown",
      "metadata": {},
      "source": [
        "<hr>\n",
        "<h2>The last exercise!</h2>\n",
        "<p>Congratulations, you have completed your first lesson and hands-on lab in Python. \n",
        "<hr>\n"
      ]
    },
    {
      "cell_type": "markdown",
      "metadata": {},
      "source": [
        "## Authors:\n",
        "\n",
        "[Joseph Santarcangelo](https://www.linkedin.com/in/joseph-s-50398b136/?utm_medium=Exinfluencer&utm_source=Exinfluencer&utm_content=000026UJ&utm_term=10006555&utm_id=NA-SkillsNetwork-Channel-SkillsNetworkCoursesIBMDeveloperSkillsNetworkPY0101ENSkillsNetwork19487395-2021-01-01)\n",
        "\n",
        "Joseph Santarcangelo has a PhD in Electrical Engineering, his research focused on using machine learning, signal processing, and computer vision to determine how videos impact human cognition. Joseph has been working for IBM since he completed his PhD.\n",
        "\n",
        "## Change Log\n",
        "\n",
        "| Date (YYYY-MM-DD) | Version | Changed By | Change Description                 |\n",
        "| ----------------- | ------- | ---------- | ---------------------------------- |\n",
        "| 2023-11-02 | 2.2 | Abhishek Gagneja | Instructions updated |\n",
        "| 2022-01-10        | 2.1     | Malika     | Removed the readme for GitShare    |\n",
        "| 2020-08-26        | 2.0     | Lavanya    | Moved lab to course repo in GitLab |\n",
        "| 2020-11-24        | 3.0     | Nayef      | Added new images                   |\n",
        "|                   |         |            |                                    |\n",
        "\n",
        "<hr/>\n",
        "\n",
        "## <h3 align=\"center\"> © IBM Corporation 2023. All rights reserved. <h3/>\n"
      ]
    }
  ],
  "metadata": {
    "kernelspec": {
      "display_name": "Python 3",
      "language": "python",
      "name": "python3"
    },
    "language_info": {
      "codemirror_mode": {
        "name": "ipython",
        "version": 3
      },
      "file_extension": ".py",
      "mimetype": "text/x-python",
      "name": "python",
      "nbconvert_exporter": "python",
      "pygments_lexer": "ipython3",
      "version": "3.12.3"
    }
  },
  "nbformat": 4,
  "nbformat_minor": 4
}
